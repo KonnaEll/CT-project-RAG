{
 "cells": [
  {
   "cell_type": "code",
   "execution_count": null,
   "id": "22df04a120c896c3",
   "metadata": {},
   "outputs": [],
   "source": [
    "## Some preparation steps -- if in google colab\n",
    "!mkdir logs \n",
    "import sys\n",
    "# Clone the repository\n",
    "!rm -rf Pleias-RAG-Library/\n",
    "!git clone --quiet https://github.com/Pleias/Pleias-RAG-Library\n",
    "\n",
    "# Install the cloned package in development mode\n",
    "%cd Pleias-RAG-Library\n",
    "!pip install -e . -q\n",
    "\n",
    "%cd ..\n",
    "sys.path.append('/content/Pleias-RAG-Library')"
   ]
  },
  {
   "cell_type": "code",
   "execution_count": null,
   "id": "62f04e6754bf8bd1",
   "metadata": {
    "ExecuteTime": {
     "end_time": "2025-05-14T15:57:13.159145Z",
     "start_time": "2025-05-14T15:57:13.125621Z"
    }
   },
   "outputs": [],
   "source": [
    "import dataset_processing as data\n",
    "import handle_models as models\n",
    "import importlib\n",
    "import logging\n",
    "\n",
    "# Clear existing handlers (Colab/Jupyter specific)\n",
    "for handler in logging.root.handlers[:]:\n",
    "    logging.root.removeHandler(handler)\n",
    "\n",
    "# Configure logging\n",
    "logging.basicConfig(level=logging.INFO)\n",
    "\n",
    "importlib.reload(models)\n",
    "importlib.reload(data)"
   ]
  },
  {
   "cell_type": "code",
   "execution_count": null,
   "id": "13beb3d63b1351d6",
   "metadata": {
    "ExecuteTime": {
     "end_time": "2025-05-14T15:46:30.657180Z",
     "start_time": "2025-05-14T15:46:30.622444Z"
    }
   },
   "outputs": [],
   "source": [
    "corpus = \"arxiv_demo_20_sources.jsonl\"\n",
    "sources = data.load_sources_jsonl(corpus)"
   ]
  },
  {
   "cell_type": "code",
   "execution_count": null,
   "id": "8e3b413e9bc97410",
   "metadata": {},
   "outputs": [],
   "source": [
    "rag, t5 = models.load_qa_models()\n",
    "models.model_check(rag, t5)"
   ]
  },
  {
   "cell_type": "code",
   "execution_count": null,
   "id": "353f6baa846bc917",
   "metadata": {},
   "outputs": [],
   "source": [
    "query = \"How many papers has Yoshua Bengio published?\""
   ]
  },
  {
   "cell_type": "code",
   "execution_count": null,
   "id": "e3ed2e3e29f34c3d",
   "metadata": {},
   "outputs": [],
   "source": [
    "results = models.query_models(query,sources,rag,t5)"
   ]
  },
  {
   "cell_type": "code",
   "execution_count": null,
   "id": "b561c709",
   "metadata": {},
   "outputs": [
    {
     "name": "stdout",
     "output_type": "stream",
     "text": [
      "Saved 20 demo sources to arxiv_demo_20_sources.jsonl\n"
     ]
    }
   ],
   "source": [
    "results['rag']['response']['processed']['answer']"
   ]
  }
 ],
 "metadata": {
  "kernelspec": {
   "display_name": "Python 3",
   "language": "python",
   "name": "python3"
  },
  "language_info": {
   "codemirror_mode": {
    "name": "ipython",
    "version": 3
   },
   "file_extension": ".py",
   "mimetype": "text/x-python",
   "name": "python",
   "nbconvert_exporter": "python",
   "pygments_lexer": "ipython3",
   "version": "3.12.9"
  }
 },
 "nbformat": 4,
 "nbformat_minor": 5
}
