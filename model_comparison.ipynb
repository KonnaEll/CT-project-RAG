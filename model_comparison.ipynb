{
 "cells": [
  {
   "metadata": {},
   "cell_type": "code",
   "outputs": [],
   "execution_count": null,
   "source": [
    "## Some preparation steps\n",
    "!mkdir logs ## if in google colab"
   ],
   "id": "22df04a120c896c3"
  },
  {
   "metadata": {
    "ExecuteTime": {
     "end_time": "2025-05-14T15:57:13.159145Z",
     "start_time": "2025-05-14T15:57:13.125621Z"
    }
   },
   "cell_type": "code",
   "source": [
    "import dataset_processing as utils\n",
    "import handle_models as models\n",
    "import logging\n",
    "import sys\n",
    "logging.basicConfig(level=logging.INFO)"
   ],
   "id": "62f04e6754bf8bd1",
   "outputs": [
    {
     "ename": "ModuleNotFoundError",
     "evalue": "No module named 'pleias_rag_interface'",
     "output_type": "error",
     "traceback": [
      "\u001B[0;31m---------------------------------------------------------------------------\u001B[0m",
      "\u001B[0;31mModuleNotFoundError\u001B[0m                       Traceback (most recent call last)",
      "Cell \u001B[0;32mIn[7], line 2\u001B[0m\n\u001B[1;32m      1\u001B[0m \u001B[38;5;28;01mimport\u001B[39;00m \u001B[38;5;21;01mdataset_processing\u001B[39;00m \u001B[38;5;28;01mas\u001B[39;00m \u001B[38;5;21;01mutils\u001B[39;00m\n\u001B[0;32m----> 2\u001B[0m \u001B[38;5;28;01mimport\u001B[39;00m \u001B[38;5;21;01mload_models\u001B[39;00m \u001B[38;5;28;01mas\u001B[39;00m \u001B[38;5;21;01mmodels\u001B[39;00m\n\u001B[1;32m      3\u001B[0m \u001B[38;5;28;01mimport\u001B[39;00m \u001B[38;5;21;01mlogging\u001B[39;00m\n\u001B[1;32m      5\u001B[0m logging\u001B[38;5;241m.\u001B[39mbasicConfig(level\u001B[38;5;241m=\u001B[39mlogging\u001B[38;5;241m.\u001B[39mINFO)\n",
      "File \u001B[0;32m/media/pablo/windows_files/00 - Master/04 - Semester4/[CS]-Case_Studies/Batch3/CT-project-RAG/load_models.py:3\u001B[0m\n\u001B[1;32m      1\u001B[0m \u001B[38;5;28;01mimport\u001B[39;00m \u001B[38;5;21;01mtorch\u001B[39;00m\n\u001B[1;32m      2\u001B[0m \u001B[38;5;28;01mfrom\u001B[39;00m \u001B[38;5;21;01mtransformers\u001B[39;00m \u001B[38;5;28;01mimport\u001B[39;00m pipeline\n\u001B[0;32m----> 3\u001B[0m \u001B[38;5;28;01mfrom\u001B[39;00m \u001B[38;5;21;01mpleias_rag_interface\u001B[39;00m \u001B[38;5;28;01mimport\u001B[39;00m RAGWithCitations\n\u001B[1;32m      5\u001B[0m \u001B[38;5;28;01mdef\u001B[39;00m \u001B[38;5;21mload_qa_models\u001B[39m(\n\u001B[1;32m      6\u001B[0m     rag_model_name: \u001B[38;5;28mstr\u001B[39m \u001B[38;5;241m=\u001B[39m \u001B[38;5;124m\"\u001B[39m\u001B[38;5;124mPleIAs/Pleias-RAG-350M\u001B[39m\u001B[38;5;124m\"\u001B[39m,\n\u001B[1;32m      7\u001B[0m     t5_model_name: \u001B[38;5;28mstr\u001B[39m \u001B[38;5;241m=\u001B[39m \u001B[38;5;124m\"\u001B[39m\u001B[38;5;124mgoogle/t5-base\u001B[39m\u001B[38;5;124m\"\u001B[39m,\n\u001B[0;32m   (...)\u001B[0m\n\u001B[1;32m     10\u001B[0m     torch_dtype\u001B[38;5;241m=\u001B[39mtorch\u001B[38;5;241m.\u001B[39mfloat16\n\u001B[1;32m     11\u001B[0m ):\n\u001B[1;32m     12\u001B[0m \u001B[38;5;250m    \u001B[39m\u001B[38;5;124;03m\"\"\"\u001B[39;00m\n\u001B[1;32m     13\u001B[0m \u001B[38;5;124;03m    Load both a RAG-with-citations model and a T5 generation pipeline.\u001B[39;00m\n\u001B[1;32m     14\u001B[0m \n\u001B[0;32m   (...)\u001B[0m\n\u001B[1;32m     17\u001B[0m \u001B[38;5;124;03m        t5_ppl: a transformers pipeline for text2text-generation (T5)\u001B[39;00m\n\u001B[1;32m     18\u001B[0m \u001B[38;5;124;03m    \"\"\"\u001B[39;00m\n",
      "\u001B[0;31mModuleNotFoundError\u001B[0m: No module named 'pleias_rag_interface'"
     ]
    }
   ],
   "execution_count": 7
  },
  {
   "metadata": {
    "ExecuteTime": {
     "end_time": "2025-05-14T15:46:30.657180Z",
     "start_time": "2025-05-14T15:46:30.622444Z"
    }
   },
   "cell_type": "code",
   "source": [
    "corpus = \"arxiv_demo_sources.jsonl\"\n",
    "sources = utils.load_sources_jsonl(corpus)"
   ],
   "id": "13beb3d63b1351d6",
   "outputs": [],
   "execution_count": 2
  },
  {
   "metadata": {},
   "cell_type": "code",
   "outputs": [],
   "execution_count": null,
   "source": [
    "rag, t5 = models.load_qa_models()\n",
    "models.model_check(rag, t5)"
   ],
   "id": "8e3b413e9bc97410"
  },
  {
   "metadata": {},
   "cell_type": "code",
   "outputs": [],
   "execution_count": null,
   "source": "query = \"How many papers has Yoshua Bengio published?\"",
   "id": "353f6baa846bc917"
  },
  {
   "metadata": {},
   "cell_type": "code",
   "outputs": [],
   "execution_count": null,
   "source": "results = models.query_models(query,sources,rag,t5)",
   "id": "e3ed2e3e29f34c3d"
  }
 ],
 "metadata": {
  "kernelspec": {
   "display_name": "Python 3",
   "language": "python",
   "name": "python3"
  },
  "language_info": {
   "codemirror_mode": {
    "name": "ipython",
    "version": 2
   },
   "file_extension": ".py",
   "mimetype": "text/x-python",
   "name": "python",
   "nbconvert_exporter": "python",
   "pygments_lexer": "ipython2",
   "version": "2.7.6"
  }
 },
 "nbformat": 4,
 "nbformat_minor": 5
}
